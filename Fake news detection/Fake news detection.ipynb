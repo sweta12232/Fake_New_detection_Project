{
 "cells": [
  {
   "cell_type": "markdown",
   "id": "0ad8dd55-82a5-49a5-a110-307252570880",
   "metadata": {},
   "source": [
    "<center><h1>Fake News Detection using Machine Learning</h1></center>"
   ]
  },
  {
   "cell_type": "markdown",
   "id": "d47bcf52-b1fb-454c-84a5-bd58c2476f67",
   "metadata": {},
   "source": [
    "#### Objective of the Project"
   ]
  },
  {
   "cell_type": "markdown",
   "id": "f16bb28c-0a87-4592-9dc6-b1a70662a7e7",
   "metadata": {},
   "source": [
    "The main objective of this project is to build a machine learning model that can automatically classify news articles as either reliable (label = 0) or unreliable (label = 1) based on features such as the title, author, and text content of the articles. The ultimate goal is to help detect fake news more accurately by analyzing the patterns in the dataset."
   ]
  },
  {
   "cell_type": "markdown",
   "id": "2f88c6ef-c911-48a3-9901-28127a21825e",
   "metadata": {},
   "source": [
    "####  Project Workflow"
   ]
  },
  {
   "cell_type": "markdown",
   "id": "92142b53-03a1-48b9-809b-8fe01aaf2c7c",
   "metadata": {},
   "source": [
    "1. First of all, we have collected data from kaggle \n",
    "2. Then, we will peform **Data Preprocessing**. In this process, we will clean the data, handle missing values, tokenize the text.\n",
    "3. After that we will perform **feature Engineering** where we  transform text data into numerical.\n",
    "4. In the model we will use **Logistic Regression** because it well-suited for binary classification tasks. Furthermore it is simple, interpretable, and effective on structured data.\n",
    "5. At last we will evalute our model and deploy it."
   ]
  },
  {
   "cell_type": "markdown",
   "id": "6cc2f6d7-19b8-4c60-a633-365f7b564824",
   "metadata": {},
   "source": [
    "##### Importing libraries"
   ]
  },
  {
   "cell_type": "code",
   "execution_count": 1,
   "id": "b5eedd75-8b50-4971-bc2b-3d27e2a13e05",
   "metadata": {},
   "outputs": [
    {
     "name": "stdout",
     "output_type": "stream",
     "text": [
      "Requirement already satisfied: nltk in c:\\users\\sweta\\appdata\\local\\programs\\python\\python312\\lib\\site-packages (3.9.1)\n",
      "Requirement already satisfied: click in c:\\users\\sweta\\appdata\\local\\programs\\python\\python312\\lib\\site-packages (from nltk) (8.1.7)\n",
      "Requirement already satisfied: joblib in c:\\users\\sweta\\appdata\\local\\programs\\python\\python312\\lib\\site-packages (from nltk) (1.4.2)\n",
      "Requirement already satisfied: regex>=2021.8.3 in c:\\users\\sweta\\appdata\\local\\programs\\python\\python312\\lib\\site-packages (from nltk) (2024.9.11)\n",
      "Requirement already satisfied: tqdm in c:\\users\\sweta\\appdata\\local\\programs\\python\\python312\\lib\\site-packages (from nltk) (4.66.4)\n",
      "Requirement already satisfied: colorama in c:\\users\\sweta\\appdata\\local\\programs\\python\\python312\\lib\\site-packages (from click->nltk) (0.4.6)\n"
     ]
    }
   ],
   "source": [
    "!pip install nltk"
   ]
  },
  {
   "cell_type": "code",
   "execution_count": 2,
   "id": "516787f0-fa09-42d8-b2a3-66e207715e34",
   "metadata": {},
   "outputs": [],
   "source": [
    "import numpy as np\n",
    "import pandas as pd\n",
    "import re\n",
    "from nltk.corpus import stopwords"
   ]
  },
  {
   "cell_type": "code",
   "execution_count": 3,
   "id": "630f9ffe-a5d1-4ea6-aa0d-b56b0c24fa56",
   "metadata": {},
   "outputs": [
    {
     "name": "stderr",
     "output_type": "stream",
     "text": [
      "[nltk_data] Downloading package stopwords to\n",
      "[nltk_data]     C:\\Users\\SWETA\\AppData\\Roaming\\nltk_data...\n",
      "[nltk_data]   Package stopwords is already up-to-date!\n"
     ]
    },
    {
     "data": {
      "text/plain": [
       "True"
      ]
     },
     "execution_count": 3,
     "metadata": {},
     "output_type": "execute_result"
    }
   ],
   "source": [
    "import nltk\n",
    "nltk.download('stopwords')"
   ]
  },
  {
   "cell_type": "code",
   "execution_count": 4,
   "id": "5647a5e2-3106-4337-a9fb-1fd54fde387d",
   "metadata": {},
   "outputs": [
    {
     "name": "stdout",
     "output_type": "stream",
     "text": [
      "['i', 'me', 'my', 'myself', 'we', 'our', 'ours', 'ourselves', 'you', \"you're\", \"you've\", \"you'll\", \"you'd\", 'your', 'yours', 'yourself', 'yourselves', 'he', 'him', 'his', 'himself', 'she', \"she's\", 'her', 'hers', 'herself', 'it', \"it's\", 'its', 'itself', 'they', 'them', 'their', 'theirs', 'themselves', 'what', 'which', 'who', 'whom', 'this', 'that', \"that'll\", 'these', 'those', 'am', 'is', 'are', 'was', 'were', 'be', 'been', 'being', 'have', 'has', 'had', 'having', 'do', 'does', 'did', 'doing', 'a', 'an', 'the', 'and', 'but', 'if', 'or', 'because', 'as', 'until', 'while', 'of', 'at', 'by', 'for', 'with', 'about', 'against', 'between', 'into', 'through', 'during', 'before', 'after', 'above', 'below', 'to', 'from', 'up', 'down', 'in', 'out', 'on', 'off', 'over', 'under', 'again', 'further', 'then', 'once', 'here', 'there', 'when', 'where', 'why', 'how', 'all', 'any', 'both', 'each', 'few', 'more', 'most', 'other', 'some', 'such', 'no', 'nor', 'not', 'only', 'own', 'same', 'so', 'than', 'too', 'very', 's', 't', 'can', 'will', 'just', 'don', \"don't\", 'should', \"should've\", 'now', 'd', 'll', 'm', 'o', 're', 've', 'y', 'ain', 'aren', \"aren't\", 'couldn', \"couldn't\", 'didn', \"didn't\", 'doesn', \"doesn't\", 'hadn', \"hadn't\", 'hasn', \"hasn't\", 'haven', \"haven't\", 'isn', \"isn't\", 'ma', 'mightn', \"mightn't\", 'mustn', \"mustn't\", 'needn', \"needn't\", 'shan', \"shan't\", 'shouldn', \"shouldn't\", 'wasn', \"wasn't\", 'weren', \"weren't\", 'won', \"won't\", 'wouldn', \"wouldn't\"]\n"
     ]
    }
   ],
   "source": [
    "print(stopwords.words('english'))"
   ]
  },
  {
   "cell_type": "markdown",
   "id": "f80ac5cb-46dd-4a40-b1a1-0114e6336660",
   "metadata": {},
   "source": [
    "* Stopwords are commonly removed from text data during preprocessing in natural language processing (NLP) because they often do not add much value in terms of meaning or sentiment (e.g., words like \"is,\" \"the,\" \"and\"). "
   ]
  },
  {
   "cell_type": "markdown",
   "id": "79a2ecde-948e-41fe-910c-6e2e542a02e5",
   "metadata": {},
   "source": [
    "##### LOADING DATASET"
   ]
  },
  {
   "cell_type": "code",
   "execution_count": 5,
   "id": "03af67da-465c-43e7-a736-d07ed7150233",
   "metadata": {},
   "outputs": [],
   "source": [
    "news = pd.read_csv('train.csv')"
   ]
  },
  {
   "cell_type": "code",
   "execution_count": 6,
   "id": "a52a556b-0cf3-4e5d-9047-d28ec96abfef",
   "metadata": {},
   "outputs": [
    {
     "data": {
      "text/html": [
       "<div>\n",
       "<style scoped>\n",
       "    .dataframe tbody tr th:only-of-type {\n",
       "        vertical-align: middle;\n",
       "    }\n",
       "\n",
       "    .dataframe tbody tr th {\n",
       "        vertical-align: top;\n",
       "    }\n",
       "\n",
       "    .dataframe thead th {\n",
       "        text-align: right;\n",
       "    }\n",
       "</style>\n",
       "<table border=\"1\" class=\"dataframe\">\n",
       "  <thead>\n",
       "    <tr style=\"text-align: right;\">\n",
       "      <th></th>\n",
       "      <th>id</th>\n",
       "      <th>title</th>\n",
       "      <th>author</th>\n",
       "      <th>text</th>\n",
       "      <th>label</th>\n",
       "    </tr>\n",
       "  </thead>\n",
       "  <tbody>\n",
       "    <tr>\n",
       "      <th>0</th>\n",
       "      <td>0</td>\n",
       "      <td>House Dem Aide: We Didn’t Even See Comey’s Let...</td>\n",
       "      <td>Darrell Lucus</td>\n",
       "      <td>House Dem Aide: We Didn’t Even See Comey’s Let...</td>\n",
       "      <td>1</td>\n",
       "    </tr>\n",
       "    <tr>\n",
       "      <th>1</th>\n",
       "      <td>1</td>\n",
       "      <td>FLYNN: Hillary Clinton, Big Woman on Campus - ...</td>\n",
       "      <td>Daniel J. Flynn</td>\n",
       "      <td>Ever get the feeling your life circles the rou...</td>\n",
       "      <td>0</td>\n",
       "    </tr>\n",
       "    <tr>\n",
       "      <th>2</th>\n",
       "      <td>2</td>\n",
       "      <td>Why the Truth Might Get You Fired</td>\n",
       "      <td>Consortiumnews.com</td>\n",
       "      <td>Why the Truth Might Get You Fired October 29, ...</td>\n",
       "      <td>1</td>\n",
       "    </tr>\n",
       "    <tr>\n",
       "      <th>3</th>\n",
       "      <td>3</td>\n",
       "      <td>15 Civilians Killed In Single US Airstrike Hav...</td>\n",
       "      <td>Jessica Purkiss</td>\n",
       "      <td>Videos 15 Civilians Killed In Single US Airstr...</td>\n",
       "      <td>1</td>\n",
       "    </tr>\n",
       "    <tr>\n",
       "      <th>4</th>\n",
       "      <td>4</td>\n",
       "      <td>Iranian woman jailed for fictional unpublished...</td>\n",
       "      <td>Howard Portnoy</td>\n",
       "      <td>Print \\nAn Iranian woman has been sentenced to...</td>\n",
       "      <td>1</td>\n",
       "    </tr>\n",
       "  </tbody>\n",
       "</table>\n",
       "</div>"
      ],
      "text/plain": [
       "   id                                              title              author  \\\n",
       "0   0  House Dem Aide: We Didn’t Even See Comey’s Let...       Darrell Lucus   \n",
       "1   1  FLYNN: Hillary Clinton, Big Woman on Campus - ...     Daniel J. Flynn   \n",
       "2   2                  Why the Truth Might Get You Fired  Consortiumnews.com   \n",
       "3   3  15 Civilians Killed In Single US Airstrike Hav...     Jessica Purkiss   \n",
       "4   4  Iranian woman jailed for fictional unpublished...      Howard Portnoy   \n",
       "\n",
       "                                                text  label  \n",
       "0  House Dem Aide: We Didn’t Even See Comey’s Let...      1  \n",
       "1  Ever get the feeling your life circles the rou...      0  \n",
       "2  Why the Truth Might Get You Fired October 29, ...      1  \n",
       "3  Videos 15 Civilians Killed In Single US Airstr...      1  \n",
       "4  Print \\nAn Iranian woman has been sentenced to...      1  "
      ]
     },
     "execution_count": 6,
     "metadata": {},
     "output_type": "execute_result"
    }
   ],
   "source": [
    "news.head()"
   ]
  },
  {
   "cell_type": "code",
   "execution_count": 7,
   "id": "95cf4e28-ad3b-4f11-8e54-6dd17a57cc5f",
   "metadata": {},
   "outputs": [
    {
     "data": {
      "text/plain": [
       "(20800, 5)"
      ]
     },
     "execution_count": 7,
     "metadata": {},
     "output_type": "execute_result"
    }
   ],
   "source": [
    "news.shape"
   ]
  },
  {
   "cell_type": "markdown",
   "id": "8a90c39f-87d8-4f5a-a1db-3efe2e4f9423",
   "metadata": {},
   "source": [
    "1. 20,800 rows: representing individual data records or entries.\n",
    "2. 5 columns: representing different features or attributes of the data"
   ]
  },
  {
   "cell_type": "markdown",
   "id": "0f730206-7c05-4d90-88a7-fe1249b9d3ce",
   "metadata": {},
   "source": [
    "### checking the Null values"
   ]
  },
  {
   "cell_type": "code",
   "execution_count": 8,
   "id": "eebecbcc-ba41-4068-89d2-c0c26863ad60",
   "metadata": {},
   "outputs": [
    {
     "data": {
      "text/plain": [
       "id           0\n",
       "title      558\n",
       "author    1957\n",
       "text        39\n",
       "label        0\n",
       "dtype: int64"
      ]
     },
     "execution_count": 8,
     "metadata": {},
     "output_type": "execute_result"
    }
   ],
   "source": [
    "news.isnull().sum()"
   ]
  },
  {
   "cell_type": "markdown",
   "id": "ba14cb11-ffa5-4351-8923-df2ea2e16d53",
   "metadata": {},
   "source": [
    "In our dataset, there are 558 missing values in the 'title' column, 1,957 missing values in the 'author' column, and 39 missing values in the 'text' column."
   ]
  },
  {
   "cell_type": "code",
   "execution_count": 9,
   "id": "26452b51-cee0-4066-abdf-e77901ed6b44",
   "metadata": {},
   "outputs": [
    {
     "name": "stdout",
     "output_type": "stream",
     "text": [
      "<class 'pandas.core.frame.DataFrame'>\n",
      "RangeIndex: 20800 entries, 0 to 20799\n",
      "Data columns (total 5 columns):\n",
      " #   Column  Non-Null Count  Dtype \n",
      "---  ------  --------------  ----- \n",
      " 0   id      20800 non-null  int64 \n",
      " 1   title   20242 non-null  object\n",
      " 2   author  18843 non-null  object\n",
      " 3   text    20761 non-null  object\n",
      " 4   label   20800 non-null  int64 \n",
      "dtypes: int64(2), object(3)\n",
      "memory usage: 812.6+ KB\n"
     ]
    }
   ],
   "source": [
    "news.info()"
   ]
  },
  {
   "cell_type": "markdown",
   "id": "d4a646f0-4646-488f-aa61-36a0ef6bce13",
   "metadata": {},
   "source": [
    "The id and label columns are complete with no missing values, while the title column has 558 missing entries, the author column has 1,957 missing entries, and the text column has 39 missing entries. The id and label columns are of data type int64, while the title, author, and text columns are of data type object. Overall, the DataFrame occupies 812.6 KB of memory, indicating efficient data storage despite some missing values.\n",
    "\n",
    "\n",
    "\n",
    "\n",
    "\n",
    "\n"
   ]
  },
  {
   "cell_type": "code",
   "execution_count": 10,
   "id": "a7983639-09e5-4463-a5cf-a4bb3dc747de",
   "metadata": {},
   "outputs": [],
   "source": [
    "# replacing the null values with empty string"
   ]
  },
  {
   "cell_type": "code",
   "execution_count": 11,
   "id": "2ee29243-d98b-490d-9903-d9654574f137",
   "metadata": {},
   "outputs": [
    {
     "data": {
      "text/plain": [
       "label\n",
       "1    10413\n",
       "0    10387\n",
       "Name: count, dtype: int64"
      ]
     },
     "execution_count": 11,
     "metadata": {},
     "output_type": "execute_result"
    }
   ],
   "source": [
    "news['label'].value_counts()"
   ]
  },
  {
   "cell_type": "code",
   "execution_count": 12,
   "id": "9dab7ef1-c66a-43be-a6f9-f94a33f0a8c3",
   "metadata": {},
   "outputs": [],
   "source": [
    "news = news.fillna('')"
   ]
  },
  {
   "cell_type": "code",
   "execution_count": 13,
   "id": "ffb8a280-2977-475e-a48a-12e52671ffad",
   "metadata": {},
   "outputs": [],
   "source": [
    "news['content'] = news['author']+ news['title']"
   ]
  },
  {
   "cell_type": "code",
   "execution_count": 14,
   "id": "b9f4a9a9-a524-4618-a6dc-ab2ee4953eee",
   "metadata": {},
   "outputs": [
    {
     "name": "stdout",
     "output_type": "stream",
     "text": [
      "0        Darrell LucusHouse Dem Aide: We Didn’t Even Se...\n",
      "1        Daniel J. FlynnFLYNN: Hillary Clinton, Big Wom...\n",
      "2        Consortiumnews.comWhy the Truth Might Get You ...\n",
      "3        Jessica Purkiss15 Civilians Killed In Single U...\n",
      "4        Howard PortnoyIranian woman jailed for fiction...\n",
      "                               ...                        \n",
      "20795    Jerome HudsonRapper T.I.: Trump a ’Poster Chil...\n",
      "20796    Benjamin HoffmanN.F.L. Playoffs: Schedule, Mat...\n",
      "20797    Michael J. de la Merced and Rachel AbramsMacy’...\n",
      "20798    Alex AnsaryNATO, Russia To Hold Parallel Exerc...\n",
      "20799               David SwansonWhat Keeps the F-35 Alive\n",
      "Name: content, Length: 20800, dtype: object\n"
     ]
    }
   ],
   "source": [
    "print(news['content'])"
   ]
  },
  {
   "cell_type": "code",
   "execution_count": 15,
   "id": "798bc5d4-d8c5-4028-b5a0-652857ee398c",
   "metadata": {},
   "outputs": [],
   "source": [
    "#separating the data level\n",
    "X = news.drop(columns = 'label', axis =1)\n",
    "Y = news['label']"
   ]
  },
  {
   "cell_type": "code",
   "execution_count": 16,
   "id": "4084c13c-e899-40e1-8800-9ee52c36b6cd",
   "metadata": {},
   "outputs": [
    {
     "data": {
      "text/html": [
       "<div>\n",
       "<style scoped>\n",
       "    .dataframe tbody tr th:only-of-type {\n",
       "        vertical-align: middle;\n",
       "    }\n",
       "\n",
       "    .dataframe tbody tr th {\n",
       "        vertical-align: top;\n",
       "    }\n",
       "\n",
       "    .dataframe thead th {\n",
       "        text-align: right;\n",
       "    }\n",
       "</style>\n",
       "<table border=\"1\" class=\"dataframe\">\n",
       "  <thead>\n",
       "    <tr style=\"text-align: right;\">\n",
       "      <th></th>\n",
       "      <th>count</th>\n",
       "      <th>mean</th>\n",
       "      <th>std</th>\n",
       "      <th>min</th>\n",
       "      <th>25%</th>\n",
       "      <th>50%</th>\n",
       "      <th>75%</th>\n",
       "      <th>max</th>\n",
       "    </tr>\n",
       "  </thead>\n",
       "  <tbody>\n",
       "    <tr>\n",
       "      <th>id</th>\n",
       "      <td>20800.0</td>\n",
       "      <td>10399.500000</td>\n",
       "      <td>6004.587135</td>\n",
       "      <td>0.0</td>\n",
       "      <td>5199.75</td>\n",
       "      <td>10399.5</td>\n",
       "      <td>15599.25</td>\n",
       "      <td>20799.0</td>\n",
       "    </tr>\n",
       "    <tr>\n",
       "      <th>label</th>\n",
       "      <td>20800.0</td>\n",
       "      <td>0.500625</td>\n",
       "      <td>0.500012</td>\n",
       "      <td>0.0</td>\n",
       "      <td>0.00</td>\n",
       "      <td>1.0</td>\n",
       "      <td>1.00</td>\n",
       "      <td>1.0</td>\n",
       "    </tr>\n",
       "  </tbody>\n",
       "</table>\n",
       "</div>"
      ],
      "text/plain": [
       "         count          mean          std  min      25%      50%       75%  \\\n",
       "id     20800.0  10399.500000  6004.587135  0.0  5199.75  10399.5  15599.25   \n",
       "label  20800.0      0.500625     0.500012  0.0     0.00      1.0      1.00   \n",
       "\n",
       "           max  \n",
       "id     20799.0  \n",
       "label      1.0  "
      ]
     },
     "execution_count": 16,
     "metadata": {},
     "output_type": "execute_result"
    }
   ],
   "source": [
    "news.describe().T"
   ]
  },
  {
   "cell_type": "code",
   "execution_count": 17,
   "id": "894ddd90-9520-45e1-af22-a88d596bd743",
   "metadata": {},
   "outputs": [
    {
     "data": {
      "text/html": [
       "<div>\n",
       "<style scoped>\n",
       "    .dataframe tbody tr th:only-of-type {\n",
       "        vertical-align: middle;\n",
       "    }\n",
       "\n",
       "    .dataframe tbody tr th {\n",
       "        vertical-align: top;\n",
       "    }\n",
       "\n",
       "    .dataframe thead th {\n",
       "        text-align: right;\n",
       "    }\n",
       "</style>\n",
       "<table border=\"1\" class=\"dataframe\">\n",
       "  <thead>\n",
       "    <tr style=\"text-align: right;\">\n",
       "      <th></th>\n",
       "      <th>count</th>\n",
       "      <th>unique</th>\n",
       "      <th>top</th>\n",
       "      <th>freq</th>\n",
       "    </tr>\n",
       "  </thead>\n",
       "  <tbody>\n",
       "    <tr>\n",
       "      <th>title</th>\n",
       "      <td>20800</td>\n",
       "      <td>19804</td>\n",
       "      <td></td>\n",
       "      <td>558</td>\n",
       "    </tr>\n",
       "    <tr>\n",
       "      <th>author</th>\n",
       "      <td>20800</td>\n",
       "      <td>4202</td>\n",
       "      <td></td>\n",
       "      <td>1957</td>\n",
       "    </tr>\n",
       "    <tr>\n",
       "      <th>text</th>\n",
       "      <td>20800</td>\n",
       "      <td>20387</td>\n",
       "      <td></td>\n",
       "      <td>75</td>\n",
       "    </tr>\n",
       "    <tr>\n",
       "      <th>content</th>\n",
       "      <td>20800</td>\n",
       "      <td>20412</td>\n",
       "      <td>Anonymous</td>\n",
       "      <td>61</td>\n",
       "    </tr>\n",
       "  </tbody>\n",
       "</table>\n",
       "</div>"
      ],
      "text/plain": [
       "         count unique        top  freq\n",
       "title    20800  19804              558\n",
       "author   20800   4202             1957\n",
       "text     20800  20387               75\n",
       "content  20800  20412  Anonymous    61"
      ]
     },
     "execution_count": 17,
     "metadata": {},
     "output_type": "execute_result"
    }
   ],
   "source": [
    "news.describe(include=[object]).T"
   ]
  },
  {
   "cell_type": "code",
   "execution_count": 18,
   "id": "0afda797-4cc7-4163-860d-565b08dccbee",
   "metadata": {},
   "outputs": [
    {
     "name": "stdout",
     "output_type": "stream",
     "text": [
      "          id                                              title  \\\n",
      "0          0  House Dem Aide: We Didn’t Even See Comey’s Let...   \n",
      "1          1  FLYNN: Hillary Clinton, Big Woman on Campus - ...   \n",
      "2          2                  Why the Truth Might Get You Fired   \n",
      "3          3  15 Civilians Killed In Single US Airstrike Hav...   \n",
      "4          4  Iranian woman jailed for fictional unpublished...   \n",
      "...      ...                                                ...   \n",
      "20795  20795  Rapper T.I.: Trump a ’Poster Child For White S...   \n",
      "20796  20796  N.F.L. Playoffs: Schedule, Matchups and Odds -...   \n",
      "20797  20797  Macy’s Is Said to Receive Takeover Approach by...   \n",
      "20798  20798  NATO, Russia To Hold Parallel Exercises In Bal...   \n",
      "20799  20799                          What Keeps the F-35 Alive   \n",
      "\n",
      "                                          author  \\\n",
      "0                                  Darrell Lucus   \n",
      "1                                Daniel J. Flynn   \n",
      "2                             Consortiumnews.com   \n",
      "3                                Jessica Purkiss   \n",
      "4                                 Howard Portnoy   \n",
      "...                                          ...   \n",
      "20795                              Jerome Hudson   \n",
      "20796                           Benjamin Hoffman   \n",
      "20797  Michael J. de la Merced and Rachel Abrams   \n",
      "20798                                Alex Ansary   \n",
      "20799                              David Swanson   \n",
      "\n",
      "                                                    text  \\\n",
      "0      House Dem Aide: We Didn’t Even See Comey’s Let...   \n",
      "1      Ever get the feeling your life circles the rou...   \n",
      "2      Why the Truth Might Get You Fired October 29, ...   \n",
      "3      Videos 15 Civilians Killed In Single US Airstr...   \n",
      "4      Print \\nAn Iranian woman has been sentenced to...   \n",
      "...                                                  ...   \n",
      "20795  Rapper T. I. unloaded on black celebrities who...   \n",
      "20796  When the Green Bay Packers lost to the Washing...   \n",
      "20797  The Macy’s of today grew from the union of sev...   \n",
      "20798  NATO, Russia To Hold Parallel Exercises In Bal...   \n",
      "20799    David Swanson is an author, activist, journa...   \n",
      "\n",
      "                                                 content  \n",
      "0      Darrell LucusHouse Dem Aide: We Didn’t Even Se...  \n",
      "1      Daniel J. FlynnFLYNN: Hillary Clinton, Big Wom...  \n",
      "2      Consortiumnews.comWhy the Truth Might Get You ...  \n",
      "3      Jessica Purkiss15 Civilians Killed In Single U...  \n",
      "4      Howard PortnoyIranian woman jailed for fiction...  \n",
      "...                                                  ...  \n",
      "20795  Jerome HudsonRapper T.I.: Trump a ’Poster Chil...  \n",
      "20796  Benjamin HoffmanN.F.L. Playoffs: Schedule, Mat...  \n",
      "20797  Michael J. de la Merced and Rachel AbramsMacy’...  \n",
      "20798  Alex AnsaryNATO, Russia To Hold Parallel Exerc...  \n",
      "20799             David SwansonWhat Keeps the F-35 Alive  \n",
      "\n",
      "[20800 rows x 5 columns]\n"
     ]
    }
   ],
   "source": [
    "print(X)"
   ]
  },
  {
   "cell_type": "code",
   "execution_count": 19,
   "id": "ecccff5d-c842-43f5-8985-f04997a18081",
   "metadata": {},
   "outputs": [],
   "source": [
    "Y = news['label']"
   ]
  },
  {
   "cell_type": "code",
   "execution_count": 20,
   "id": "5d915365-f874-426e-a77b-331456432ca7",
   "metadata": {},
   "outputs": [
    {
     "name": "stdout",
     "output_type": "stream",
     "text": [
      "0        1\n",
      "1        0\n",
      "2        1\n",
      "3        1\n",
      "4        1\n",
      "        ..\n",
      "20795    0\n",
      "20796    0\n",
      "20797    0\n",
      "20798    1\n",
      "20799    1\n",
      "Name: label, Length: 20800, dtype: int64\n"
     ]
    }
   ],
   "source": [
    "print(Y)"
   ]
  },
  {
   "cell_type": "markdown",
   "id": "d53f313a-59cf-4644-a6de-1bb3f797de31",
   "metadata": {},
   "source": [
    "## Data preprocessing"
   ]
  },
  {
   "cell_type": "markdown",
   "id": "7db94405-ebe2-40ba-91c0-d7a2707a650e",
   "metadata": {},
   "source": [
    "In machine learning (ML) and natural language processing (NLP), **stemming** is a process used to reduce a word to its root form or base form. The idea is to strip the word of any suffixes or prefixes that may alter its grammatical form without changing its underlying meaning. This helps reduce dimensionality and improve model efficiency, especially in text-related tasks like classification or clustering.\n",
    "\n",
    "For example, the words \"running,\" \"runner,\" and \"ran\" can all be reduced to their stem, \"run,\" to treat them as the same word for modeling purposes."
   ]
  },
  {
   "cell_type": "code",
   "execution_count": 21,
   "id": "8cde5eab-802c-4089-a47d-96bcf87ff121",
   "metadata": {},
   "outputs": [],
   "source": [
    "\n",
    "from nltk.stem import PorterStemmer"
   ]
  },
  {
   "cell_type": "code",
   "execution_count": 22,
   "id": "a626db2f-2189-43c6-ae34-9744e1c7004a",
   "metadata": {},
   "outputs": [],
   "source": [
    "port_stem = PorterStemmer()\n"
   ]
  },
  {
   "cell_type": "code",
   "execution_count": 23,
   "id": "523feb10-c14c-43bd-87bd-700f7f823f5a",
   "metadata": {},
   "outputs": [],
   "source": [
    "def stemming(content):\n",
    "    stemmed_content = re.sub('[^a-zA-Z]', ' ', content)\n",
    "    stemmed_content = stemmed_content.lower()\n",
    "    stemmed_content = stemmed_content.split()\n",
    "    stemmed_content = [port_stem.stem(word) for word in stemmed_content if word not in stopwords.words('english')]\n",
    "    stemmed_content = ' '.join(stemmed_content)\n",
    "    \n",
    "    return stemmed_content"
   ]
  },
  {
   "cell_type": "markdown",
   "id": "6c94d726-2911-45c5-8dd9-aa9dce5092d8",
   "metadata": {},
   "source": [
    "In this function We have \n",
    "* Remove non-alphabetic characters\n",
    "* Convert to lowercase\n",
    "*  Tokenize (split into words)\n",
    "*  Remove stopwords and apply stemming\n",
    "At last join the stemmed words back into a single string.Therefore, we have make function to make our text more efficient and meaningful analysis or machine learning tasks."
   ]
  },
  {
   "cell_type": "code",
   "execution_count": 24,
   "id": "d4f7acb8-ed01-4df8-856c-04f643d83a77",
   "metadata": {},
   "outputs": [],
   "source": [
    "news['content'] = news['content'].apply(stemming)"
   ]
  },
  {
   "cell_type": "code",
   "execution_count": 25,
   "id": "94a07c6d-0238-4e3f-90bc-e64b7906964f",
   "metadata": {},
   "outputs": [
    {
     "name": "stdout",
     "output_type": "stream",
     "text": [
      "0        darrel lucushous dem aid even see comey letter...\n",
      "1        daniel j flynnflynn hillari clinton big woman ...\n",
      "2                consortiumnew comwhi truth might get fire\n",
      "3        jessica purkiss civilian kill singl us airstri...\n",
      "4        howard portnoyiranian woman jail fiction unpub...\n",
      "                               ...                        \n",
      "20795    jerom hudsonrapp trump poster child white supr...\n",
      "20796    benjamin hoffmann f l playoff schedul matchup ...\n",
      "20797    michael j de la merc rachel abramsmaci said re...\n",
      "20798    alex ansarynato russia hold parallel exercis b...\n",
      "20799                        david swansonwhat keep f aliv\n",
      "Name: content, Length: 20800, dtype: object\n"
     ]
    }
   ],
   "source": [
    "print(news['content'])"
   ]
  },
  {
   "cell_type": "markdown",
   "id": "6187c165-8126-4710-b32c-86c9bb292118",
   "metadata": {},
   "source": [
    "The text is significantly simplified, with many words reduced to their root forms, such as \"aid\" instead of \"aiding,\" \"woman\" instead of \"women,\" and \"big\" instead of \"bigger.\" The preprocessing is complete for all 20,800 entries, as indicated by the \"Length: 20800\" at the bottom of the output"
   ]
  },
  {
   "cell_type": "markdown",
   "id": "eb0d3306-ce26-4015-b081-02983605cb62",
   "metadata": {},
   "source": [
    "### Separating the data and label"
   ]
  },
  {
   "cell_type": "code",
   "execution_count": null,
   "id": "46d648a4-fc7b-4097-bec8-2d064c7f401d",
   "metadata": {},
   "outputs": [],
   "source": []
  },
  {
   "cell_type": "code",
   "execution_count": 26,
   "id": "61d405b0-4565-43ac-8c9b-72a86285d17d",
   "metadata": {},
   "outputs": [],
   "source": [
    "X = news['content'].values\n",
    "Y = news['label'].values"
   ]
  },
  {
   "cell_type": "code",
   "execution_count": null,
   "id": "5b49af3d-3e79-4e09-91d4-6dca6e10a7ac",
   "metadata": {},
   "outputs": [],
   "source": []
  },
  {
   "cell_type": "code",
   "execution_count": 27,
   "id": "6be570e5-8c2f-4e63-bc59-e00215850aa0",
   "metadata": {},
   "outputs": [
    {
     "name": "stdout",
     "output_type": "stream",
     "text": [
      "['darrel lucushous dem aid even see comey letter jason chaffetz tweet'\n",
      " 'daniel j flynnflynn hillari clinton big woman campu breitbart'\n",
      " 'consortiumnew comwhi truth might get fire' ...\n",
      " 'michael j de la merc rachel abramsmaci said receiv takeov approach hudson bay new york time'\n",
      " 'alex ansarynato russia hold parallel exercis balkan'\n",
      " 'david swansonwhat keep f aliv']\n"
     ]
    }
   ],
   "source": [
    "print(X)"
   ]
  },
  {
   "cell_type": "code",
   "execution_count": 28,
   "id": "d6241e44-6f6d-4f0b-b405-623c914c70d0",
   "metadata": {},
   "outputs": [
    {
     "name": "stdout",
     "output_type": "stream",
     "text": [
      "[1 0 1 ... 0 1 1]\n"
     ]
    }
   ],
   "source": [
    "print(Y)"
   ]
  },
  {
   "cell_type": "code",
   "execution_count": 29,
   "id": "7c9d34d8-bea2-4706-b1ea-c36e5849e73b",
   "metadata": {},
   "outputs": [
    {
     "data": {
      "text/plain": [
       "(20800,)"
      ]
     },
     "execution_count": 29,
     "metadata": {},
     "output_type": "execute_result"
    }
   ],
   "source": [
    "Y.shape"
   ]
  },
  {
   "cell_type": "markdown",
   "id": "1e1bfae4-7be0-4299-9f3f-aa8129f51270",
   "metadata": {},
   "source": [
    "The shape of Y is (20800,), indicating that it is a one-dimensional array."
   ]
  },
  {
   "cell_type": "markdown",
   "id": "1a04b419-b586-464e-b007-e4b8fad5a5be",
   "metadata": {},
   "source": [
    "### Converting the textual data to numeric data"
   ]
  },
  {
   "cell_type": "code",
   "execution_count": 30,
   "id": "aa711f1a-607a-4d84-bff4-b8c07beb13e8",
   "metadata": {},
   "outputs": [
    {
     "name": "stdout",
     "output_type": "stream",
     "text": [
      "Requirement already satisfied: scikit-learn in c:\\users\\sweta\\appdata\\local\\programs\\python\\python312\\lib\\site-packages (1.5.1)\n",
      "Requirement already satisfied: numpy>=1.19.5 in c:\\users\\sweta\\appdata\\local\\programs\\python\\python312\\lib\\site-packages (from scikit-learn) (1.26.4)\n",
      "Requirement already satisfied: scipy>=1.6.0 in c:\\users\\sweta\\appdata\\local\\programs\\python\\python312\\lib\\site-packages (from scikit-learn) (1.13.1)\n",
      "Requirement already satisfied: joblib>=1.2.0 in c:\\users\\sweta\\appdata\\local\\programs\\python\\python312\\lib\\site-packages (from scikit-learn) (1.4.2)\n",
      "Requirement already satisfied: threadpoolctl>=3.1.0 in c:\\users\\sweta\\appdata\\local\\programs\\python\\python312\\lib\\site-packages (from scikit-learn) (3.5.0)\n"
     ]
    }
   ],
   "source": [
    "!pip install scikit-learn"
   ]
  },
  {
   "cell_type": "code",
   "execution_count": 31,
   "id": "73901b25-ff4f-4c4d-b92e-a55583486e42",
   "metadata": {},
   "outputs": [],
   "source": [
    "from sklearn.feature_extraction.text import TfidfVectorizer\n",
    "vectorizer = TfidfVectorizer(max_features=5000, ngram_range=(1,2), min_df=3)\n",
    "vectorizer.fit(X)\n",
    "\n",
    "X = vectorizer.transform(X)"
   ]
  },
  {
   "cell_type": "code",
   "execution_count": 32,
   "id": "af626ec4-151c-40d0-b5a1-4da800ace30f",
   "metadata": {},
   "outputs": [
    {
     "name": "stdout",
     "output_type": "stream",
     "text": [
      "  (0, 90)\t0.2759293043276144\n",
      "  (0, 684)\t0.3712955008238819\n",
      "  (0, 864)\t0.25323657575467584\n",
      "  (0, 866)\t0.3808846853733861\n",
      "  (0, 1080)\t0.363460566562267\n",
      "  (0, 1147)\t0.29085823786574805\n",
      "  (0, 1489)\t0.23692870579510109\n",
      "  (0, 2270)\t0.2521485894260527\n",
      "  (0, 2537)\t0.29882560109057166\n",
      "  (0, 3937)\t0.2614033507737681\n",
      "  (0, 4642)\t0.28767358378371766\n",
      "  (1, 434)\t0.27802212146722505\n",
      "  (1, 527)\t0.14554753369758755\n",
      "  (1, 611)\t0.3587918665425247\n",
      "  (1, 612)\t0.4103385259421859\n",
      "  (1, 796)\t0.1821155093311956\n",
      "  (1, 1071)\t0.2482182315852111\n",
      "  (1, 1072)\t0.4103385259421859\n",
      "  (1, 1680)\t0.4103385259421859\n",
      "  (1, 2002)\t0.18857663386719098\n",
      "  (1, 2004)\t0.23314194396608315\n",
      "  (1, 4919)\t0.28802817950317133\n",
      "  (2, 927)\t0.484659180523578\n",
      "  (2, 1652)\t0.4089044983990633\n",
      "  (2, 1794)\t0.3684394241683705\n",
      "  :\t:\n",
      "  (20797, 378)\t0.3162195107168245\n",
      "  (20797, 1105)\t0.20015122656331155\n",
      "  (20797, 1108)\t0.24875899589372197\n",
      "  (20797, 2073)\t0.2817879898193905\n",
      "  (20797, 2448)\t0.21435954451907754\n",
      "  (20797, 2451)\t0.30825834198817126\n",
      "  (20797, 2765)\t0.30825834198817126\n",
      "  (20797, 2785)\t0.16812144157881873\n",
      "  (20797, 2787)\t0.2785423586031803\n",
      "  (20797, 2979)\t0.07619195005784596\n",
      "  (20797, 2993)\t0.0784966487216146\n",
      "  (20797, 3555)\t0.23543302682803832\n",
      "  (20797, 3617)\t0.25705834100933955\n",
      "  (20797, 3837)\t0.23451817306899733\n",
      "  (20797, 4353)\t0.29379242477828793\n",
      "  (20797, 4466)\t0.07741398928514089\n",
      "  (20797, 4977)\t0.07840563504546832\n",
      "  (20797, 4980)\t0.0785764765931505\n",
      "  (20798, 118)\t0.4482997131222387\n",
      "  (20798, 1516)\t0.6383246206538647\n",
      "  (20798, 2033)\t0.5103604090953882\n",
      "  (20798, 3817)\t0.36207913321483476\n",
      "  (20799, 129)\t0.6861895585371753\n",
      "  (20799, 1089)\t0.46628474308514667\n",
      "  (20799, 2389)\t0.5583210797745105\n"
     ]
    }
   ],
   "source": [
    "print(X)"
   ]
  },
  {
   "cell_type": "markdown",
   "id": "99314587-0449-48dd-a32e-9b021989dd69",
   "metadata": {},
   "source": [
    "Splitting the dataset to training and test data"
   ]
  },
  {
   "cell_type": "code",
   "execution_count": 33,
   "id": "180519e6-4b51-43df-b8bc-605876621d2a",
   "metadata": {},
   "outputs": [],
   "source": [
    "from sklearn.model_selection import train_test_split\n",
    "X_train, X_test, Y_train, Y_test = train_test_split(X, Y, test_size = 0.2 ,stratify = Y, random_state = 42)"
   ]
  },
  {
   "cell_type": "code",
   "execution_count": 34,
   "id": "794626d3-74ad-4067-8414-18f0360b40fb",
   "metadata": {},
   "outputs": [],
   "source": [
    "from sklearn.linear_model import LogisticRegression\n",
    "\n",
    "model = LogisticRegression(C=0.1, class_weight='balanced')  # Use smaller C for stronger regularization"
   ]
  },
  {
   "cell_type": "code",
   "execution_count": 35,
   "id": "15f14c79-d501-4823-91b8-1c6b1ed9e086",
   "metadata": {},
   "outputs": [
    {
     "data": {
      "text/html": [
       "<style>#sk-container-id-1 {\n",
       "  /* Definition of color scheme common for light and dark mode */\n",
       "  --sklearn-color-text: black;\n",
       "  --sklearn-color-line: gray;\n",
       "  /* Definition of color scheme for unfitted estimators */\n",
       "  --sklearn-color-unfitted-level-0: #fff5e6;\n",
       "  --sklearn-color-unfitted-level-1: #f6e4d2;\n",
       "  --sklearn-color-unfitted-level-2: #ffe0b3;\n",
       "  --sklearn-color-unfitted-level-3: chocolate;\n",
       "  /* Definition of color scheme for fitted estimators */\n",
       "  --sklearn-color-fitted-level-0: #f0f8ff;\n",
       "  --sklearn-color-fitted-level-1: #d4ebff;\n",
       "  --sklearn-color-fitted-level-2: #b3dbfd;\n",
       "  --sklearn-color-fitted-level-3: cornflowerblue;\n",
       "\n",
       "  /* Specific color for light theme */\n",
       "  --sklearn-color-text-on-default-background: var(--sg-text-color, var(--theme-code-foreground, var(--jp-content-font-color1, black)));\n",
       "  --sklearn-color-background: var(--sg-background-color, var(--theme-background, var(--jp-layout-color0, white)));\n",
       "  --sklearn-color-border-box: var(--sg-text-color, var(--theme-code-foreground, var(--jp-content-font-color1, black)));\n",
       "  --sklearn-color-icon: #696969;\n",
       "\n",
       "  @media (prefers-color-scheme: dark) {\n",
       "    /* Redefinition of color scheme for dark theme */\n",
       "    --sklearn-color-text-on-default-background: var(--sg-text-color, var(--theme-code-foreground, var(--jp-content-font-color1, white)));\n",
       "    --sklearn-color-background: var(--sg-background-color, var(--theme-background, var(--jp-layout-color0, #111)));\n",
       "    --sklearn-color-border-box: var(--sg-text-color, var(--theme-code-foreground, var(--jp-content-font-color1, white)));\n",
       "    --sklearn-color-icon: #878787;\n",
       "  }\n",
       "}\n",
       "\n",
       "#sk-container-id-1 {\n",
       "  color: var(--sklearn-color-text);\n",
       "}\n",
       "\n",
       "#sk-container-id-1 pre {\n",
       "  padding: 0;\n",
       "}\n",
       "\n",
       "#sk-container-id-1 input.sk-hidden--visually {\n",
       "  border: 0;\n",
       "  clip: rect(1px 1px 1px 1px);\n",
       "  clip: rect(1px, 1px, 1px, 1px);\n",
       "  height: 1px;\n",
       "  margin: -1px;\n",
       "  overflow: hidden;\n",
       "  padding: 0;\n",
       "  position: absolute;\n",
       "  width: 1px;\n",
       "}\n",
       "\n",
       "#sk-container-id-1 div.sk-dashed-wrapped {\n",
       "  border: 1px dashed var(--sklearn-color-line);\n",
       "  margin: 0 0.4em 0.5em 0.4em;\n",
       "  box-sizing: border-box;\n",
       "  padding-bottom: 0.4em;\n",
       "  background-color: var(--sklearn-color-background);\n",
       "}\n",
       "\n",
       "#sk-container-id-1 div.sk-container {\n",
       "  /* jupyter's `normalize.less` sets `[hidden] { display: none; }`\n",
       "     but bootstrap.min.css set `[hidden] { display: none !important; }`\n",
       "     so we also need the `!important` here to be able to override the\n",
       "     default hidden behavior on the sphinx rendered scikit-learn.org.\n",
       "     See: https://github.com/scikit-learn/scikit-learn/issues/21755 */\n",
       "  display: inline-block !important;\n",
       "  position: relative;\n",
       "}\n",
       "\n",
       "#sk-container-id-1 div.sk-text-repr-fallback {\n",
       "  display: none;\n",
       "}\n",
       "\n",
       "div.sk-parallel-item,\n",
       "div.sk-serial,\n",
       "div.sk-item {\n",
       "  /* draw centered vertical line to link estimators */\n",
       "  background-image: linear-gradient(var(--sklearn-color-text-on-default-background), var(--sklearn-color-text-on-default-background));\n",
       "  background-size: 2px 100%;\n",
       "  background-repeat: no-repeat;\n",
       "  background-position: center center;\n",
       "}\n",
       "\n",
       "/* Parallel-specific style estimator block */\n",
       "\n",
       "#sk-container-id-1 div.sk-parallel-item::after {\n",
       "  content: \"\";\n",
       "  width: 100%;\n",
       "  border-bottom: 2px solid var(--sklearn-color-text-on-default-background);\n",
       "  flex-grow: 1;\n",
       "}\n",
       "\n",
       "#sk-container-id-1 div.sk-parallel {\n",
       "  display: flex;\n",
       "  align-items: stretch;\n",
       "  justify-content: center;\n",
       "  background-color: var(--sklearn-color-background);\n",
       "  position: relative;\n",
       "}\n",
       "\n",
       "#sk-container-id-1 div.sk-parallel-item {\n",
       "  display: flex;\n",
       "  flex-direction: column;\n",
       "}\n",
       "\n",
       "#sk-container-id-1 div.sk-parallel-item:first-child::after {\n",
       "  align-self: flex-end;\n",
       "  width: 50%;\n",
       "}\n",
       "\n",
       "#sk-container-id-1 div.sk-parallel-item:last-child::after {\n",
       "  align-self: flex-start;\n",
       "  width: 50%;\n",
       "}\n",
       "\n",
       "#sk-container-id-1 div.sk-parallel-item:only-child::after {\n",
       "  width: 0;\n",
       "}\n",
       "\n",
       "/* Serial-specific style estimator block */\n",
       "\n",
       "#sk-container-id-1 div.sk-serial {\n",
       "  display: flex;\n",
       "  flex-direction: column;\n",
       "  align-items: center;\n",
       "  background-color: var(--sklearn-color-background);\n",
       "  padding-right: 1em;\n",
       "  padding-left: 1em;\n",
       "}\n",
       "\n",
       "\n",
       "/* Toggleable style: style used for estimator/Pipeline/ColumnTransformer box that is\n",
       "clickable and can be expanded/collapsed.\n",
       "- Pipeline and ColumnTransformer use this feature and define the default style\n",
       "- Estimators will overwrite some part of the style using the `sk-estimator` class\n",
       "*/\n",
       "\n",
       "/* Pipeline and ColumnTransformer style (default) */\n",
       "\n",
       "#sk-container-id-1 div.sk-toggleable {\n",
       "  /* Default theme specific background. It is overwritten whether we have a\n",
       "  specific estimator or a Pipeline/ColumnTransformer */\n",
       "  background-color: var(--sklearn-color-background);\n",
       "}\n",
       "\n",
       "/* Toggleable label */\n",
       "#sk-container-id-1 label.sk-toggleable__label {\n",
       "  cursor: pointer;\n",
       "  display: block;\n",
       "  width: 100%;\n",
       "  margin-bottom: 0;\n",
       "  padding: 0.5em;\n",
       "  box-sizing: border-box;\n",
       "  text-align: center;\n",
       "}\n",
       "\n",
       "#sk-container-id-1 label.sk-toggleable__label-arrow:before {\n",
       "  /* Arrow on the left of the label */\n",
       "  content: \"▸\";\n",
       "  float: left;\n",
       "  margin-right: 0.25em;\n",
       "  color: var(--sklearn-color-icon);\n",
       "}\n",
       "\n",
       "#sk-container-id-1 label.sk-toggleable__label-arrow:hover:before {\n",
       "  color: var(--sklearn-color-text);\n",
       "}\n",
       "\n",
       "/* Toggleable content - dropdown */\n",
       "\n",
       "#sk-container-id-1 div.sk-toggleable__content {\n",
       "  max-height: 0;\n",
       "  max-width: 0;\n",
       "  overflow: hidden;\n",
       "  text-align: left;\n",
       "  /* unfitted */\n",
       "  background-color: var(--sklearn-color-unfitted-level-0);\n",
       "}\n",
       "\n",
       "#sk-container-id-1 div.sk-toggleable__content.fitted {\n",
       "  /* fitted */\n",
       "  background-color: var(--sklearn-color-fitted-level-0);\n",
       "}\n",
       "\n",
       "#sk-container-id-1 div.sk-toggleable__content pre {\n",
       "  margin: 0.2em;\n",
       "  border-radius: 0.25em;\n",
       "  color: var(--sklearn-color-text);\n",
       "  /* unfitted */\n",
       "  background-color: var(--sklearn-color-unfitted-level-0);\n",
       "}\n",
       "\n",
       "#sk-container-id-1 div.sk-toggleable__content.fitted pre {\n",
       "  /* unfitted */\n",
       "  background-color: var(--sklearn-color-fitted-level-0);\n",
       "}\n",
       "\n",
       "#sk-container-id-1 input.sk-toggleable__control:checked~div.sk-toggleable__content {\n",
       "  /* Expand drop-down */\n",
       "  max-height: 200px;\n",
       "  max-width: 100%;\n",
       "  overflow: auto;\n",
       "}\n",
       "\n",
       "#sk-container-id-1 input.sk-toggleable__control:checked~label.sk-toggleable__label-arrow:before {\n",
       "  content: \"▾\";\n",
       "}\n",
       "\n",
       "/* Pipeline/ColumnTransformer-specific style */\n",
       "\n",
       "#sk-container-id-1 div.sk-label input.sk-toggleable__control:checked~label.sk-toggleable__label {\n",
       "  color: var(--sklearn-color-text);\n",
       "  background-color: var(--sklearn-color-unfitted-level-2);\n",
       "}\n",
       "\n",
       "#sk-container-id-1 div.sk-label.fitted input.sk-toggleable__control:checked~label.sk-toggleable__label {\n",
       "  background-color: var(--sklearn-color-fitted-level-2);\n",
       "}\n",
       "\n",
       "/* Estimator-specific style */\n",
       "\n",
       "/* Colorize estimator box */\n",
       "#sk-container-id-1 div.sk-estimator input.sk-toggleable__control:checked~label.sk-toggleable__label {\n",
       "  /* unfitted */\n",
       "  background-color: var(--sklearn-color-unfitted-level-2);\n",
       "}\n",
       "\n",
       "#sk-container-id-1 div.sk-estimator.fitted input.sk-toggleable__control:checked~label.sk-toggleable__label {\n",
       "  /* fitted */\n",
       "  background-color: var(--sklearn-color-fitted-level-2);\n",
       "}\n",
       "\n",
       "#sk-container-id-1 div.sk-label label.sk-toggleable__label,\n",
       "#sk-container-id-1 div.sk-label label {\n",
       "  /* The background is the default theme color */\n",
       "  color: var(--sklearn-color-text-on-default-background);\n",
       "}\n",
       "\n",
       "/* On hover, darken the color of the background */\n",
       "#sk-container-id-1 div.sk-label:hover label.sk-toggleable__label {\n",
       "  color: var(--sklearn-color-text);\n",
       "  background-color: var(--sklearn-color-unfitted-level-2);\n",
       "}\n",
       "\n",
       "/* Label box, darken color on hover, fitted */\n",
       "#sk-container-id-1 div.sk-label.fitted:hover label.sk-toggleable__label.fitted {\n",
       "  color: var(--sklearn-color-text);\n",
       "  background-color: var(--sklearn-color-fitted-level-2);\n",
       "}\n",
       "\n",
       "/* Estimator label */\n",
       "\n",
       "#sk-container-id-1 div.sk-label label {\n",
       "  font-family: monospace;\n",
       "  font-weight: bold;\n",
       "  display: inline-block;\n",
       "  line-height: 1.2em;\n",
       "}\n",
       "\n",
       "#sk-container-id-1 div.sk-label-container {\n",
       "  text-align: center;\n",
       "}\n",
       "\n",
       "/* Estimator-specific */\n",
       "#sk-container-id-1 div.sk-estimator {\n",
       "  font-family: monospace;\n",
       "  border: 1px dotted var(--sklearn-color-border-box);\n",
       "  border-radius: 0.25em;\n",
       "  box-sizing: border-box;\n",
       "  margin-bottom: 0.5em;\n",
       "  /* unfitted */\n",
       "  background-color: var(--sklearn-color-unfitted-level-0);\n",
       "}\n",
       "\n",
       "#sk-container-id-1 div.sk-estimator.fitted {\n",
       "  /* fitted */\n",
       "  background-color: var(--sklearn-color-fitted-level-0);\n",
       "}\n",
       "\n",
       "/* on hover */\n",
       "#sk-container-id-1 div.sk-estimator:hover {\n",
       "  /* unfitted */\n",
       "  background-color: var(--sklearn-color-unfitted-level-2);\n",
       "}\n",
       "\n",
       "#sk-container-id-1 div.sk-estimator.fitted:hover {\n",
       "  /* fitted */\n",
       "  background-color: var(--sklearn-color-fitted-level-2);\n",
       "}\n",
       "\n",
       "/* Specification for estimator info (e.g. \"i\" and \"?\") */\n",
       "\n",
       "/* Common style for \"i\" and \"?\" */\n",
       "\n",
       ".sk-estimator-doc-link,\n",
       "a:link.sk-estimator-doc-link,\n",
       "a:visited.sk-estimator-doc-link {\n",
       "  float: right;\n",
       "  font-size: smaller;\n",
       "  line-height: 1em;\n",
       "  font-family: monospace;\n",
       "  background-color: var(--sklearn-color-background);\n",
       "  border-radius: 1em;\n",
       "  height: 1em;\n",
       "  width: 1em;\n",
       "  text-decoration: none !important;\n",
       "  margin-left: 1ex;\n",
       "  /* unfitted */\n",
       "  border: var(--sklearn-color-unfitted-level-1) 1pt solid;\n",
       "  color: var(--sklearn-color-unfitted-level-1);\n",
       "}\n",
       "\n",
       ".sk-estimator-doc-link.fitted,\n",
       "a:link.sk-estimator-doc-link.fitted,\n",
       "a:visited.sk-estimator-doc-link.fitted {\n",
       "  /* fitted */\n",
       "  border: var(--sklearn-color-fitted-level-1) 1pt solid;\n",
       "  color: var(--sklearn-color-fitted-level-1);\n",
       "}\n",
       "\n",
       "/* On hover */\n",
       "div.sk-estimator:hover .sk-estimator-doc-link:hover,\n",
       ".sk-estimator-doc-link:hover,\n",
       "div.sk-label-container:hover .sk-estimator-doc-link:hover,\n",
       ".sk-estimator-doc-link:hover {\n",
       "  /* unfitted */\n",
       "  background-color: var(--sklearn-color-unfitted-level-3);\n",
       "  color: var(--sklearn-color-background);\n",
       "  text-decoration: none;\n",
       "}\n",
       "\n",
       "div.sk-estimator.fitted:hover .sk-estimator-doc-link.fitted:hover,\n",
       ".sk-estimator-doc-link.fitted:hover,\n",
       "div.sk-label-container:hover .sk-estimator-doc-link.fitted:hover,\n",
       ".sk-estimator-doc-link.fitted:hover {\n",
       "  /* fitted */\n",
       "  background-color: var(--sklearn-color-fitted-level-3);\n",
       "  color: var(--sklearn-color-background);\n",
       "  text-decoration: none;\n",
       "}\n",
       "\n",
       "/* Span, style for the box shown on hovering the info icon */\n",
       ".sk-estimator-doc-link span {\n",
       "  display: none;\n",
       "  z-index: 9999;\n",
       "  position: relative;\n",
       "  font-weight: normal;\n",
       "  right: .2ex;\n",
       "  padding: .5ex;\n",
       "  margin: .5ex;\n",
       "  width: min-content;\n",
       "  min-width: 20ex;\n",
       "  max-width: 50ex;\n",
       "  color: var(--sklearn-color-text);\n",
       "  box-shadow: 2pt 2pt 4pt #999;\n",
       "  /* unfitted */\n",
       "  background: var(--sklearn-color-unfitted-level-0);\n",
       "  border: .5pt solid var(--sklearn-color-unfitted-level-3);\n",
       "}\n",
       "\n",
       ".sk-estimator-doc-link.fitted span {\n",
       "  /* fitted */\n",
       "  background: var(--sklearn-color-fitted-level-0);\n",
       "  border: var(--sklearn-color-fitted-level-3);\n",
       "}\n",
       "\n",
       ".sk-estimator-doc-link:hover span {\n",
       "  display: block;\n",
       "}\n",
       "\n",
       "/* \"?\"-specific style due to the `<a>` HTML tag */\n",
       "\n",
       "#sk-container-id-1 a.estimator_doc_link {\n",
       "  float: right;\n",
       "  font-size: 1rem;\n",
       "  line-height: 1em;\n",
       "  font-family: monospace;\n",
       "  background-color: var(--sklearn-color-background);\n",
       "  border-radius: 1rem;\n",
       "  height: 1rem;\n",
       "  width: 1rem;\n",
       "  text-decoration: none;\n",
       "  /* unfitted */\n",
       "  color: var(--sklearn-color-unfitted-level-1);\n",
       "  border: var(--sklearn-color-unfitted-level-1) 1pt solid;\n",
       "}\n",
       "\n",
       "#sk-container-id-1 a.estimator_doc_link.fitted {\n",
       "  /* fitted */\n",
       "  border: var(--sklearn-color-fitted-level-1) 1pt solid;\n",
       "  color: var(--sklearn-color-fitted-level-1);\n",
       "}\n",
       "\n",
       "/* On hover */\n",
       "#sk-container-id-1 a.estimator_doc_link:hover {\n",
       "  /* unfitted */\n",
       "  background-color: var(--sklearn-color-unfitted-level-3);\n",
       "  color: var(--sklearn-color-background);\n",
       "  text-decoration: none;\n",
       "}\n",
       "\n",
       "#sk-container-id-1 a.estimator_doc_link.fitted:hover {\n",
       "  /* fitted */\n",
       "  background-color: var(--sklearn-color-fitted-level-3);\n",
       "}\n",
       "</style><div id=\"sk-container-id-1\" class=\"sk-top-container\"><div class=\"sk-text-repr-fallback\"><pre>LogisticRegression(C=0.1, class_weight=&#x27;balanced&#x27;)</pre><b>In a Jupyter environment, please rerun this cell to show the HTML representation or trust the notebook. <br />On GitHub, the HTML representation is unable to render, please try loading this page with nbviewer.org.</b></div><div class=\"sk-container\" hidden><div class=\"sk-item\"><div class=\"sk-estimator fitted sk-toggleable\"><input class=\"sk-toggleable__control sk-hidden--visually\" id=\"sk-estimator-id-1\" type=\"checkbox\" checked><label for=\"sk-estimator-id-1\" class=\"sk-toggleable__label fitted sk-toggleable__label-arrow fitted\">&nbsp;&nbsp;LogisticRegression<a class=\"sk-estimator-doc-link fitted\" rel=\"noreferrer\" target=\"_blank\" href=\"https://scikit-learn.org/1.5/modules/generated/sklearn.linear_model.LogisticRegression.html\">?<span>Documentation for LogisticRegression</span></a><span class=\"sk-estimator-doc-link fitted\">i<span>Fitted</span></span></label><div class=\"sk-toggleable__content fitted\"><pre>LogisticRegression(C=0.1, class_weight=&#x27;balanced&#x27;)</pre></div> </div></div></div></div>"
      ],
      "text/plain": [
       "LogisticRegression(C=0.1, class_weight='balanced')"
      ]
     },
     "execution_count": 35,
     "metadata": {},
     "output_type": "execute_result"
    }
   ],
   "source": [
    "from imblearn.over_sampling import SMOTE\n",
    "\n",
    "smote = SMOTE()\n",
    "X_train_balanced, Y_train_balanced = smote.fit_resample(X_train, Y_train)\n",
    "model.fit(X_train_balanced, Y_train_balanced)"
   ]
  },
  {
   "cell_type": "code",
   "execution_count": 36,
   "id": "cba0db15-cd44-4af3-8b02-a7aef9240bc5",
   "metadata": {},
   "outputs": [],
   "source": [
    "# Predictions on the training set\n",
    "Y_train_pred = model.predict(X_train_balanced)\n",
    "\n",
    "# Predictions on the test set\n",
    "Y_test_pred = model.predict(X_test)\n"
   ]
  },
  {
   "cell_type": "code",
   "execution_count": 37,
   "id": "0275d31e-4c8d-43c5-b391-07203157121e",
   "metadata": {},
   "outputs": [
    {
     "name": "stdout",
     "output_type": "stream",
     "text": [
      "Training Set Evaluation:\n",
      "Accuracy: 0.9276710684273709\n",
      "Precision: 0.8765458196807948\n",
      "Recall: 0.9955582232893158\n",
      "F1-Score: 0.9322691248384014\n",
      "\n",
      "Classification Report (Training):\n",
      "              precision    recall  f1-score   support\n",
      "\n",
      "           0       0.99      0.86      0.92      8330\n",
      "           1       0.88      1.00      0.93      8330\n",
      "\n",
      "    accuracy                           0.93     16660\n",
      "   macro avg       0.94      0.93      0.93     16660\n",
      "weighted avg       0.94      0.93      0.93     16660\n",
      "\n",
      "Test Set Evaluation:\n",
      "Accuracy: 0.9189903846153846\n",
      "Precision: 0.8643572621035058\n",
      "Recall: 0.9942390782525204\n",
      "F1-Score: 0.9247599910694352\n",
      "\n",
      "Classification Report (Test):\n",
      "              precision    recall  f1-score   support\n",
      "\n",
      "           0       0.99      0.84      0.91      2077\n",
      "           1       0.86      0.99      0.92      2083\n",
      "\n",
      "    accuracy                           0.92      4160\n",
      "   macro avg       0.93      0.92      0.92      4160\n",
      "weighted avg       0.93      0.92      0.92      4160\n",
      "\n"
     ]
    }
   ],
   "source": [
    "from sklearn.metrics import accuracy_score, precision_score, recall_score, f1_score, classification_report\n",
    "\n",
    "# Evaluate on the training set\n",
    "print(\"Training Set Evaluation:\")\n",
    "print(f\"Accuracy: {accuracy_score(Y_train_balanced, Y_train_pred)}\")\n",
    "print(f\"Precision: {precision_score(Y_train_balanced, Y_train_pred)}\")\n",
    "print(f\"Recall: {recall_score(Y_train_balanced, Y_train_pred)}\")\n",
    "print(f\"F1-Score: {f1_score(Y_train_balanced, Y_train_pred)}\")\n",
    "print(\"\\nClassification Report (Training):\")\n",
    "print(classification_report(Y_train_balanced, Y_train_pred))\n",
    "\n",
    "# Evaluate on the test set\n",
    "print(\"Test Set Evaluation:\")\n",
    "print(f\"Accuracy: {accuracy_score(Y_test, Y_test_pred)}\")\n",
    "print(f\"Precision: {precision_score(Y_test, Y_test_pred)}\")\n",
    "print(f\"Recall: {recall_score(Y_test, Y_test_pred)}\")\n",
    "print(f\"F1-Score: {f1_score(Y_test, Y_test_pred)}\")\n",
    "print(\"\\nClassification Report (Test):\")\n",
    "print(classification_report(Y_test, Y_test_pred))\n"
   ]
  },
  {
   "cell_type": "code",
   "execution_count": 42,
   "id": "650a0967-31d9-470c-ac99-06accb467c01",
   "metadata": {},
   "outputs": [
    {
     "data": {
      "image/png": "[encoded data removed]",
      "text/plain": [
       "<Figure size 640x480 with 2 Axes>"
      ]
     },
     "metadata": {},
     "output_type": "display_data"
    }
   ],
   "source": [
    "from sklearn.metrics import confusion_matrix\n",
    "import seaborn as sns\n",
    "import matplotlib.pyplot as plt\n",
    "\n",
    "# Confusion matrix for the test set\n",
    "cm = confusion_matrix(Y_test, Y_test_pred)\n",
    "sns.heatmap(cm, annot=True, fmt=\"d\", cmap=\"Blues\", xticklabels=[\"Real\", \"Fake\"], yticklabels=[\"Real\", \"Fake\"])\n",
    "plt.xlabel(\"Predicted\")\n",
    "plt.ylabel(\"True\")\n",
    "plt.show()\n"
   ]
  },
  {
   "cell_type": "code",
   "execution_count": null,
   "id": "237cbdb9-22e3-4f40-89c8-2457c4f609a6",
   "metadata": {},
   "outputs": [],
   "source": []
  },
  {
   "cell_type": "code",
   "execution_count": 43,
   "id": "5d767479-ee78-44fa-8a82-d7bca31c5066",
   "metadata": {},
   "outputs": [
    {
     "name": "stdout",
     "output_type": "stream",
     "text": [
      "Cross-validation accuracy scores: [0.92557023 0.92076831 0.92587035 0.91956783 0.92857143]\n",
      "Mean cross-validation score: 0.9240696278511406\n"
     ]
    }
   ],
   "source": [
    "from sklearn.model_selection import cross_val_score\n",
    "\n",
    "scores = cross_val_score(model, X_train_balanced, Y_train_balanced, cv=5, scoring='accuracy')\n",
    "print(\"Cross-validation accuracy scores:\", scores)\n",
    "print(\"Mean cross-validation score:\", scores.mean())\n"
   ]
  },
  {
   "cell_type": "code",
   "execution_count": 38,
   "id": "bb46d8bb-0bbc-41ca-a306-72666d5439a2",
   "metadata": {},
   "outputs": [
    {
     "name": "stdout",
     "output_type": "stream",
     "text": [
      "Random Forest Model Evaluation:\n",
      "\n",
      "Training Set Evaluation:\n",
      "Accuracy: 1.0\n",
      "Precision: 1.0\n",
      "Recall: 1.0\n",
      "F1-Score: 1.0\n",
      "\n",
      "Test Set Evaluation:\n",
      "Accuracy: 0.9786057692307693\n",
      "Precision: 0.968075117370892\n",
      "Recall: 0.9899183869419107\n",
      "F1-Score: 0.9788749109897935\n"
     ]
    }
   ],
   "source": [
    "from sklearn.ensemble import RandomForestClassifier\n",
    "\n",
    "# Initialize the Random Forest model\n",
    "rf_model = RandomForestClassifier(n_estimators=100, random_state=42, class_weight='balanced')\n",
    "\n",
    "# Train the model\n",
    "rf_model.fit(X_train_balanced, Y_train_balanced)\n",
    "\n",
    "# Make predictions\n",
    "Y_train_pred_rf = rf_model.predict(X_train_balanced)\n",
    "Y_test_pred_rf = rf_model.predict(X_test)\n",
    "\n",
    "# Evaluate the model\n",
    "print(\"Random Forest Model Evaluation:\")\n",
    "print(\"\\nTraining Set Evaluation:\")\n",
    "print(f\"Accuracy: {accuracy_score(Y_train_balanced, Y_train_pred_rf)}\")\n",
    "print(f\"Precision: {precision_score(Y_train_balanced, Y_train_pred_rf)}\")\n",
    "print(f\"Recall: {recall_score(Y_train_balanced, Y_train_pred_rf)}\")\n",
    "print(f\"F1-Score: {f1_score(Y_train_balanced, Y_train_pred_rf)}\")\n",
    "\n",
    "print(\"\\nTest Set Evaluation:\")\n",
    "print(f\"Accuracy: {accuracy_score(Y_test, Y_test_pred_rf)}\")\n",
    "print(f\"Precision: {precision_score(Y_test, Y_test_pred_rf)}\")\n",
    "print(f\"Recall: {recall_score(Y_test, Y_test_pred_rf)}\")\n",
    "print(f\"F1-Score: {f1_score(Y_test, Y_test_pred_rf)}\")\n",
    "\n"
   ]
  },
  {
   "cell_type": "code",
   "execution_count": 39,
   "id": "3a310ed0-a0bd-469b-a462-977e30807a2d",
   "metadata": {},
   "outputs": [
    {
     "name": "stdout",
     "output_type": "stream",
     "text": [
      "SVM Model Evaluation:\n",
      "\n",
      "Training Set Evaluation:\n",
      "Accuracy: 0.9896158463385354\n",
      "Precision: 0.9875672444710102\n",
      "Recall: 0.9917166866746698\n",
      "F1-Score: 0.9896376160527104\n",
      "\n",
      "Test Set Evaluation:\n",
      "Accuracy: 0.9745192307692307\n",
      "Precision: 0.967818267865594\n",
      "Recall: 0.9817570811329813\n",
      "F1-Score: 0.9747378455672069\n"
     ]
    }
   ],
   "source": [
    "from sklearn.svm import SVC\n",
    "\n",
    "# Initialize the SVM model\n",
    "svm_model = SVC(kernel='linear', class_weight='balanced', random_state=42)\n",
    "\n",
    "# Train the model\n",
    "svm_model.fit(X_train_balanced, Y_train_balanced)\n",
    "\n",
    "# Make predictions\n",
    "Y_train_pred_svm = svm_model.predict(X_train_balanced)\n",
    "Y_test_pred_svm = svm_model.predict(X_test)\n",
    "\n",
    "# Evaluate the model\n",
    "print(\"SVM Model Evaluation:\")\n",
    "print(\"\\nTraining Set Evaluation:\")\n",
    "print(f\"Accuracy: {accuracy_score(Y_train_balanced, Y_train_pred_svm)}\")\n",
    "print(f\"Precision: {precision_score(Y_train_balanced, Y_train_pred_svm)}\")\n",
    "print(f\"Recall: {recall_score(Y_train_balanced, Y_train_pred_svm)}\")\n",
    "print(f\"F1-Score: {f1_score(Y_train_balanced, Y_train_pred_svm)}\")\n",
    "\n",
    "print(\"\\nTest Set Evaluation:\")\n",
    "print(f\"Accuracy: {accuracy_score(Y_test, Y_test_pred_svm)}\")\n",
    "print(f\"Precision: {precision_score(Y_test, Y_test_pred_svm)}\")\n",
    "print(f\"Recall: {recall_score(Y_test, Y_test_pred_svm)}\")\n",
    "print(f\"F1-Score: {f1_score(Y_test, Y_test_pred_svm)}\")\n"
   ]
  },
  {
   "cell_type": "markdown",
   "id": "fae3964a-a7fc-430a-ab67-a4911c3277b8",
   "metadata": {},
   "source": [
    "ACCURACY"
   ]
  },
  {
   "cell_type": "code",
   "execution_count": 52,
   "id": "0102d08a-473a-48ea-8314-76d075210be0",
   "metadata": {},
   "outputs": [
    {
     "name": "stdout",
     "output_type": "stream",
     "text": [
      "Best Hyperparameters for Random Forest: {'max_depth': None, 'min_samples_split': 5, 'n_estimators': 300}\n"
     ]
    }
   ],
   "source": [
    "from sklearn.model_selection import GridSearchCV\n",
    "\n",
    "# Define parameter grid\n",
    "param_grid = {\n",
    "    'n_estimators': [100, 200, 300],\n",
    "    'max_depth': [10, 20, None],\n",
    "    'min_samples_split': [2, 5, 10]\n",
    "}\n",
    "\n",
    "# Initialize the GridSearchCV\n",
    "grid_search = GridSearchCV(estimator=rf_model, param_grid=param_grid, cv=5, scoring='accuracy')\n",
    "\n",
    "# Fit the model\n",
    "grid_search.fit(X_train_balanced, Y_train_balanced)\n",
    "\n",
    "# Print the best parameters\n",
    "print(\"Best Hyperparameters for Random Forest:\", grid_search.best_params_)\n",
    "\n",
    "# Use the best estimator to make predictions\n",
    "best_rf_model = grid_search.best_estimator_\n"
   ]
  },
  {
   "cell_type": "code",
   "execution_count": 53,
   "id": "773714c8-7765-4c2f-ad9a-86f3fdb1193b",
   "metadata": {},
   "outputs": [
    {
     "name": "stdout",
     "output_type": "stream",
     "text": [
      "Feature: 527, Importance: 0.15173895558264294\n",
      "Feature: 2993, Importance: 0.09177594930725225\n",
      "Feature: 4980, Importance: 0.09153405627165201\n",
      "Feature: 4977, Importance: 0.08768217872850848\n",
      "Feature: 2979, Importance: 0.08125748140145979\n",
      "Feature: 4466, Importance: 0.07369976602664889\n",
      "Feature: 2293, Importance: 0.013615454469408587\n",
      "Feature: 3204, Importance: 0.010591779410470379\n",
      "Feature: 2319, Importance: 0.010528866987081846\n",
      "Feature: 706, Importance: 0.009141059466712393\n"
     ]
    }
   ],
   "source": [
    "importances = best_rf_model.feature_importances_\n",
    "sorted_indices = np.argsort(importances)[::-1]\n",
    "\n",
    "for idx in sorted_indices[:10]:  # Display top 10 important features\n",
    "    print(f\"Feature: {idx}, Importance: {importances[idx]}\")\n"
   ]
  },
  {
   "cell_type": "code",
   "execution_count": 63,
   "id": "efe2ded3-ce1d-4e03-8b66-57c384f90adc",
   "metadata": {},
   "outputs": [
    {
     "data": {
      "image/png": "[encoded data removed]",
      "text/plain": [
       "<Figure size 1000x600 with 1 Axes>"
      ]
     },
     "metadata": {},
     "output_type": "display_data"
    }
   ],
   "source": [
    "import matplotlib.pyplot as plt\n",
    "import numpy as np\n",
    "\n",
    "# Feature importance plot\n",
    "indices = np.argsort(importances)[::-1][:10]  # Top 10 features\n",
    "plt.figure(figsize=(10, 6))\n",
    "plt.title(\"Top 10 Important Features\")\n",
    "plt.barh(range(len(indices)), importances[indices], align='center')\n",
    "plt.yticks(range(len(indices)), indices)\n",
    "plt.xlabel(\"Feature Importance\")\n",
    "plt.gca().invert_yaxis()\n",
    "plt.show()\n"
   ]
  },
  {
   "cell_type": "code",
   "execution_count": 64,
   "id": "5780064e-62bd-4aa9-8716-733656dd452a",
   "metadata": {},
   "outputs": [
    {
     "name": "stdout",
     "output_type": "stream",
     "text": [
      "Accuracy: 0.9817307692307692\n",
      "Confusion Matrix:\n",
      " [[2027   50]\n",
      " [  26 2057]]\n",
      "Classification Report:\n",
      "               precision    recall  f1-score   support\n",
      "\n",
      "           0       0.99      0.98      0.98      2077\n",
      "           1       0.98      0.99      0.98      2083\n",
      "\n",
      "    accuracy                           0.98      4160\n",
      "   macro avg       0.98      0.98      0.98      4160\n",
      "weighted avg       0.98      0.98      0.98      4160\n",
      "\n"
     ]
    }
   ],
   "source": [
    "from sklearn.metrics import classification_report, confusion_matrix, accuracy_score\n",
    "\n",
    "Y_pred = best_rf_model.predict(X_test)\n",
    "print(\"Accuracy:\", accuracy_score(Y_test, Y_pred))\n",
    "print(\"Confusion Matrix:\\n\", confusion_matrix(Y_test, Y_pred))\n",
    "print(\"Classification Report:\\n\", classification_report(Y_test, Y_pred))\n"
   ]
  },
  {
   "cell_type": "code",
   "execution_count": 65,
   "id": "20e25dcd-a822-4026-9ac4-edad78207bda",
   "metadata": {},
   "outputs": [
    {
     "name": "stdout",
     "output_type": "stream",
     "text": [
      "Cross-validation accuracy: 0.9802403846153845\n"
     ]
    }
   ],
   "source": [
    "from sklearn.model_selection import cross_val_score\n",
    "cross_val_scores = cross_val_score(best_rf_model, X, Y, cv=5)  # 5-fold cross-validation\n",
    "print(\"Cross-validation accuracy:\", cross_val_scores.mean())\n"
   ]
  },
  {
   "cell_type": "code",
   "execution_count": 66,
   "id": "27405d46-164c-44a5-8a54-164842e57c3f",
   "metadata": {},
   "outputs": [
    {
     "name": "stdout",
     "output_type": "stream",
     "text": [
      "Mean CV Accuracy: 0.9802\n",
      "CV Standard Deviation: 0.0023\n"
     ]
    }
   ],
   "source": [
    "import numpy as np\n",
    "print(f\"Mean CV Accuracy: {cross_val_scores.mean():.4f}\")\n",
    "print(f\"CV Standard Deviation: {cross_val_scores.std():.4f}\")\n"
   ]
  },
  {
   "cell_type": "code",
   "execution_count": 67,
   "id": "6720f620-bf1d-45e3-9b11-cf344b737199",
   "metadata": {},
   "outputs": [
    {
     "name": "stdout",
     "output_type": "stream",
     "text": [
      "The predicted category for the news is: Fake\n"
     ]
    }
   ],
   "source": [
    "# Sample new input for prediction (make sure it's in the same format as your training data)\n",
    "new_news_sample = [\"Heavy Israeli airstrikes rocked Beirut overnight while Gaza officials say 21 people were killed in a strike on a mosque\"]\n",
    "\n",
    "# Preprocess this input (tokenization, vectorization, etc.)\n",
    "# Assuming you have already done this preprocessing on X_test\n",
    "new_news_preprocessed = vectorizer.transform(new_news_sample)\n",
    "\n",
    "# Predict using the trained model\n",
    "predicted_label = model.predict(new_news_preprocessed)\n",
    "\n",
    "# Mapping the predicted label (0 or 1) to 'Real' or 'Fake'\n",
    "news_category = {0: 'Real', 1: 'Fake'}\n",
    "result = news_category[predicted_label[0]]\n",
    "\n",
    "print(f\"The predicted category for the news is: {result}\")\n"
   ]
  },
  {
   "cell_type": "code",
   "execution_count": 68,
   "id": "a52ca8ea-4696-418c-833e-aa2d28685487",
   "metadata": {},
   "outputs": [
    {
     "name": "stdout",
     "output_type": "stream",
     "text": [
      "Test news 1: Predicted as Fake\n",
      "Test news 2: Predicted as Real\n",
      "Test news 3: Predicted as Fake\n",
      "Test news 4: Predicted as Fake\n",
      "Test news 5: Predicted as Real\n",
      "Test news 6: Predicted as Real\n",
      "Test news 7: Predicted as Real\n",
      "Test news 8: Predicted as Real\n",
      "Test news 9: Predicted as Fake\n",
      "Test news 10: Predicted as Real\n"
     ]
    }
   ],
   "source": [
    "# Predicting the categories for the test set\n",
    "test_predictions = model.predict(X_test)\n",
    "\n",
    "# Mapping predictions to 'Real' or 'Fake'\n",
    "predicted_categories = ['Real' if label == 0 else 'Fake' for label in test_predictions]\n",
    "\n",
    "# Print out predictions for the test set\n",
    "for idx, prediction in enumerate(predicted_categories[:10]):  # Displaying first 10 predictions\n",
    "    print(f\"Test news {idx + 1}: Predicted as {prediction}\")\n"
   ]
  },
  {
   "cell_type": "code",
   "execution_count": 55,
   "id": "25338411-1d08-4af7-be75-373ed59aeff4",
   "metadata": {},
   "outputs": [],
   "source": [
    "from sklearn.metrics import accuracy_score\n",
    "X_train_prediction = model.predict(X_train)\n",
    "training_data_accuracy = accuracy_score(X_train_prediction, Y_train)"
   ]
  },
  {
   "cell_type": "code",
   "execution_count": 56,
   "id": "61a55220-4d3f-46d1-8a48-4cae7f8b7bb2",
   "metadata": {},
   "outputs": [
    {
     "name": "stdout",
     "output_type": "stream",
     "text": [
      "The accuracy od the training data: 0.9277043269230769\n"
     ]
    }
   ],
   "source": [
    "print(f'The accuracy od the training data: {training_data_accuracy}')"
   ]
  },
  {
   "cell_type": "code",
   "execution_count": 57,
   "id": "9bc0d6d0-2035-47a7-b7da-6ce3bfcc4278",
   "metadata": {},
   "outputs": [],
   "source": [
    "X_test_prediction = model.predict(X_test)\n",
    "test_data_accuracy = accuracy_score(X_test_prediction, Y_test)"
   ]
  },
  {
   "cell_type": "code",
   "execution_count": 58,
   "id": "2cbde053-6489-4f6e-aa9b-86424b0e0347",
   "metadata": {},
   "outputs": [
    {
     "name": "stdout",
     "output_type": "stream",
     "text": [
      "The accuracy od the training data: 0.9189903846153846\n"
     ]
    }
   ],
   "source": [
    "print(f'The accuracy od the training data: {test_data_accuracy}')"
   ]
  },
  {
   "cell_type": "markdown",
   "id": "243e9061-d6f2-481d-84f8-61a8fb46fce9",
   "metadata": {},
   "source": [
    "# Predicyive System\n"
   ]
  },
  {
   "cell_type": "code",
   "execution_count": 59,
   "id": "e9aa2775-0188-4240-84ee-a74842816a47",
   "metadata": {},
   "outputs": [
    {
     "name": "stdout",
     "output_type": "stream",
     "text": [
      "[1]\n",
      "The news is Fake\n"
     ]
    }
   ],
   "source": [
    "X_new = X_test[0]\n",
    "prediction = model.predict(X_new)\n",
    "print(prediction)\n",
    "\n",
    "if(prediction[0] ==0):\n",
    "    print('The news is Real')\n",
    "else:\n",
    "    print('The news is Fake')"
   ]
  },
  {
   "cell_type": "code",
   "execution_count": 60,
   "id": "387ba4f4-eb3a-462f-b9da-133a1df24853",
   "metadata": {},
   "outputs": [
    {
     "name": "stdout",
     "output_type": "stream",
     "text": [
      "0\n"
     ]
    }
   ],
   "source": [
    "print(Y_test[0])"
   ]
  },
  {
   "cell_type": "code",
   "execution_count": 61,
   "id": "426e03d4-ef14-44bb-8a44-43c3c47932b2",
   "metadata": {},
   "outputs": [
    {
     "name": "stdout",
     "output_type": "stream",
     "text": [
      "[0]\n",
      "The news is Real\n"
     ]
    }
   ],
   "source": [
    "X_new = X_test[1]\n",
    "prediction = model.predict(X_new)\n",
    "print(prediction)\n",
    "\n",
    "if(prediction[0] ==0):\n",
    "    print('The news is Real')\n",
    "else:\n",
    "    print('The news is Fake')"
   ]
  },
  {
   "cell_type": "code",
   "execution_count": 62,
   "id": "923ef4b7-0ced-445f-93e4-f12246da640c",
   "metadata": {},
   "outputs": [
    {
     "name": "stdout",
     "output_type": "stream",
     "text": [
      "0\n"
     ]
    }
   ],
   "source": [
    "print(Y_test[1])"
   ]
  },
  {
   "cell_type": "code",
   "execution_count": 50,
   "id": "297a11fd-1a22-4c8e-a25b-8ce042bca777",
   "metadata": {},
   "outputs": [],
   "source": [
    "import pickle\n",
    "with open('model1.pkl', 'wb') as file:\n",
    "    pickle.dump(model, file)"
   ]
  },
  {
   "cell_type": "code",
   "execution_count": 51,
   "id": "ae84bf23-7dc5-4ea7-b833-d377d17c19b4",
   "metadata": {},
   "outputs": [],
   "source": [
    "with open('vectorizer1.pkl', 'wb') as file:\n",
    "    pickle.dump(vectorizer, file)"
   ]
  },
  {
   "cell_type": "code",
   "execution_count": null,
   "id": "1a73d9bd-af2a-46b9-9beb-d213c5094ea8",
   "metadata": {},
   "outputs": [],
   "source": []
  }
 ],
 "metadata": {
  "kernelspec": {
   "display_name": "Python 3 (ipykernel)",
   "language": "python",
   "name": "python3"
  },
  "language_info": {
   "codemirror_mode": {
    "name": "ipython",
    "version": 3
   },
   "file_extension": ".py",
   "mimetype": "text/x-python",
   "name": "python",
   "nbconvert_exporter": "python",
   "pygments_lexer": "ipython3",
   "version": "3.12.3"
  }
 },
 "nbformat": 4,
 "nbformat_minor": 5
}
